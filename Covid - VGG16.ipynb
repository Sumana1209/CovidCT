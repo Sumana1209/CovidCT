{
 "cells": [
  {
   "cell_type": "markdown",
   "metadata": {},
   "source": [
    "## Importing packages"
   ]
  },
  {
   "cell_type": "code",
   "execution_count": 1,
   "metadata": {},
   "outputs": [],
   "source": [
    "from numba import cuda\n",
    "cuda.select_device(0)\n",
    "cuda.close()"
   ]
  },
  {
   "cell_type": "code",
   "execution_count": 2,
   "metadata": {},
   "outputs": [
    {
     "name": "stderr",
     "output_type": "stream",
     "text": [
      "Using TensorFlow backend.\n"
     ]
    }
   ],
   "source": [
    "%matplotlib inline\n",
    "import numpy as np\n",
    "import pandas as pd\n",
    "import cv2\n",
    "#import pydicom\n",
    "\n",
    "import os\n",
    "import glob\n",
    "import h5py\n",
    "import shutil\n",
    "\n",
    "#import imgaug as aug\n",
    "\n",
    "import seaborn as sns\n",
    "import matplotlib.pyplot as plt\n",
    "import matplotlib.image as mimg\n",
    "#import imgaug.augmenters as iaa\n",
    "from os import listdir, makedirs, getcwd, remove\n",
    "from os.path import isfile, join, abspath, exists, isdir, expanduser\n",
    "\n",
    "from PIL import Image\n",
    "from pathlib import Path\n",
    "from skimage.io import imread\n",
    "from skimage.transform import resize\n",
    "\n",
    "from sklearn.model_selection import train_test_split\n",
    "from sklearn.preprocessing import StandardScaler\n",
    "#from mlxtend.plotting import plot_confusion_matrix\n",
    "from sklearn.metrics import confusion_matrix\n",
    "\n",
    "from keras.models import Sequential, Model\n",
    "from keras.applications.vgg16 import VGG16, preprocess_input\n",
    "from keras.preprocessing.image import ImageDataGenerator,load_img, img_to_array\n",
    "from keras.models import Sequential\n",
    "from keras.layers import Conv2D, MaxPooling2D, Dense, Dropout, Input, Flatten, SeparableConv2D, MaxPool2D, GlobalAveragePooling2D\n",
    "from keras.layers import GlobalMaxPooling2D\n",
    "from keras.layers.normalization import BatchNormalization\n",
    "from keras.layers.merge import Concatenate\n",
    "from keras.models import Model\n",
    "from keras.optimizers import Adam, SGD, RMSprop\n",
    "from keras.callbacks import ModelCheckpoint, Callback, EarlyStopping\n",
    "from keras.utils import to_categorical\n",
    "from keras.callbacks import ReduceLROnPlateau\n",
    "from keras.preprocessing.image import img_to_array\n",
    "from keras.applications.vgg16 import preprocess_input\n",
    "from keras.applications.vgg16 import decode_predictions\n",
    "from keras.applications.vgg16 import VGG16\n",
    "\n",
    "import itertools\n",
    "\n",
    "color = sns.color_palette()\n",
    "\n",
    "os.environ['TF_FORCE_GPU_ALLOW_GROWTH'] = 'true'"
   ]
  },
  {
   "cell_type": "code",
   "execution_count": 3,
   "metadata": {},
   "outputs": [],
   "source": [
    "## Reading data"
   ]
  },
  {
   "cell_type": "code",
   "execution_count": 4,
   "metadata": {},
   "outputs": [],
   "source": [
    "# Define path to the data directory\n",
    "data_dir = os.path.join('..','D:\\\\Covid\\\\Final data\\\\All')\n"
   ]
  },
  {
   "cell_type": "code",
   "execution_count": 5,
   "metadata": {},
   "outputs": [],
   "source": [
    "# Set folder names as labels\n",
    "covid_cases = data_dir + '/' + 'Covid/*'\n",
    "noncovid_cases = data_dir + '/' + 'Non-Covid/*'\n",
    "\n",
    "# Get the list of all the images\n",
    "covid_cases = glob.glob(covid_cases)\n",
    "noncovid_cases = glob.glob(noncovid_cases)\n"
   ]
  },
  {
   "cell_type": "markdown",
   "metadata": {},
   "source": [
    "## Preparing train, test and val data\n",
    "\n",
    "# Train data"
   ]
  },
  {
   "cell_type": "code",
   "execution_count": 6,
   "metadata": {},
   "outputs": [
    {
     "name": "stdout",
     "output_type": "stream",
     "text": [
      "Total number of examples:  (4140, 150, 150, 3)\n",
      "Total number of labels: (4140, 2)\n"
     ]
    }
   ],
   "source": [
    "# List that are going to contain validation images data and the corresponding labels\n",
    "all_data = []\n",
    "all_label = []\n",
    "\n",
    "\n",
    "# Some images are in grayscale while majority of them contains 3 channels. So, if the image is grayscale, we will convert into a image with 3 channels.\n",
    "# We will normalize the pixel values and resizing all the images to 224x224\n",
    "\n",
    "# All Cases\n",
    "cases = [covid_cases, noncovid_cases]\n",
    "for case_num in range(2):\n",
    "    for img in cases[case_num]:\n",
    "        img = cv2.imread(str(img))\n",
    "        img = cv2.resize(img, (150,150))\n",
    "        img = img.astype(np.float32)/255.\n",
    "        label = to_categorical(case_num, num_classes=2)\n",
    "        all_data.append(img)\n",
    "        all_label.append(label)\n",
    "\n",
    "# Convert the list into numpy arrays\n",
    "all_data = np.array(all_data)\n",
    "all_label = np.array(all_label)\n",
    "\n",
    "print(\"Total number of examples: \", all_data.shape)\n",
    "print(\"Total number of labels:\", all_label.shape)\n"
   ]
  },
  {
   "cell_type": "code",
   "execution_count": 7,
   "metadata": {},
   "outputs": [
    {
     "name": "stdout",
     "output_type": "stream",
     "text": [
      "Train 3312\n",
      "Test 828\n"
     ]
    }
   ],
   "source": [
    "# Split dataset into train, test and validate\n",
    "from sklearn.model_selection import train_test_split\n",
    "tr_data, test_data, tr_label, test_label = train_test_split(all_data, all_label, test_size=0.20,shuffle=True)\n",
    "number_of_tr = tr_data.shape[0]\n",
    "number_of_test = test_data.shape[0]\n",
    "print('Train', number_of_tr)\n",
    "print('Test',number_of_test)\n",
    "\n",
    "# from sklearn.model_selection import train_test_split\n",
    "# train_data, val_data, train_label, val_label = train_test_split(tr_data, tr_label, test_size=0.20, shuffle=True)\n",
    "# number_of_train = train_data.shape[0]\n",
    "# number_of_validate = val_data.shape[0]\n",
    "# print('Train', number_of_train)\n",
    "# print('Validate',number_of_validate)"
   ]
  },
  {
   "cell_type": "markdown",
   "metadata": {},
   "source": [
    "## VGG16"
   ]
  },
  {
   "cell_type": "code",
   "execution_count": 8,
   "metadata": {},
   "outputs": [],
   "source": [
    "from keras.layers import Dense,GlobalAveragePooling2D,Dropout\n",
    "from keras.applications import VGG16\n",
    "from keras.preprocessing import image\n",
    "from keras.applications.mobilenet import preprocess_input\n",
    "from keras.preprocessing.image import ImageDataGenerator\n",
    "from keras.models import Model\n",
    "from keras import optimizers\n",
    "from keras import regularizers\n",
    "\n",
    "base_model=VGG16(weights='imagenet',include_top=False) #imports the mobilenet model and discards the last 1000 neuron layer.\n",
    "\n",
    "x=base_model.output\n",
    "avg_pool=GlobalAveragePooling2D()(x)\n",
    "layer_1=Dense(512,activation='relu',kernel_regularizer=regularizers.l2(0.005))(avg_pool) #we add dense layers so that the model can learn more complex functions and classify for better results.\n",
    "layer_2=Dropout(0.5)(layer_1)\n",
    "layer_3=Dense(1024,activation='relu',kernel_regularizer=regularizers.l2(0.005))(layer_2) #dense layer 2\n",
    "layer_4=Dropout(0.5)(layer_1)\n",
    "layer_5=Dense(512,activation='relu',kernel_regularizer=regularizers.l2(0.005))(layer_4) #dense layer 3\n",
    "preds=Dense(2,activation='sigmoid')(layer_3) #final layer with softmax activation"
   ]
  },
  {
   "cell_type": "code",
   "execution_count": 9,
   "metadata": {
    "scrolled": true
   },
   "outputs": [
    {
     "name": "stdout",
     "output_type": "stream",
     "text": [
      "Model: \"model_1\"\n",
      "_________________________________________________________________\n",
      "Layer (type)                 Output Shape              Param #   \n",
      "=================================================================\n",
      "input_1 (InputLayer)         (None, None, None, 3)     0         \n",
      "_________________________________________________________________\n",
      "block1_conv1 (Conv2D)        (None, None, None, 64)    1792      \n",
      "_________________________________________________________________\n",
      "block1_conv2 (Conv2D)        (None, None, None, 64)    36928     \n",
      "_________________________________________________________________\n",
      "block1_pool (MaxPooling2D)   (None, None, None, 64)    0         \n",
      "_________________________________________________________________\n",
      "block2_conv1 (Conv2D)        (None, None, None, 128)   73856     \n",
      "_________________________________________________________________\n",
      "block2_conv2 (Conv2D)        (None, None, None, 128)   147584    \n",
      "_________________________________________________________________\n",
      "block2_pool (MaxPooling2D)   (None, None, None, 128)   0         \n",
      "_________________________________________________________________\n",
      "block3_conv1 (Conv2D)        (None, None, None, 256)   295168    \n",
      "_________________________________________________________________\n",
      "block3_conv2 (Conv2D)        (None, None, None, 256)   590080    \n",
      "_________________________________________________________________\n",
      "block3_conv3 (Conv2D)        (None, None, None, 256)   590080    \n",
      "_________________________________________________________________\n",
      "block3_pool (MaxPooling2D)   (None, None, None, 256)   0         \n",
      "_________________________________________________________________\n",
      "block4_conv1 (Conv2D)        (None, None, None, 512)   1180160   \n",
      "_________________________________________________________________\n",
      "block4_conv2 (Conv2D)        (None, None, None, 512)   2359808   \n",
      "_________________________________________________________________\n",
      "block4_conv3 (Conv2D)        (None, None, None, 512)   2359808   \n",
      "_________________________________________________________________\n",
      "block4_pool (MaxPooling2D)   (None, None, None, 512)   0         \n",
      "_________________________________________________________________\n",
      "block5_conv1 (Conv2D)        (None, None, None, 512)   2359808   \n",
      "_________________________________________________________________\n",
      "block5_conv2 (Conv2D)        (None, None, None, 512)   2359808   \n",
      "_________________________________________________________________\n",
      "block5_conv3 (Conv2D)        (None, None, None, 512)   2359808   \n",
      "_________________________________________________________________\n",
      "block5_pool (MaxPooling2D)   (None, None, None, 512)   0         \n",
      "_________________________________________________________________\n",
      "global_average_pooling2d_1 ( (None, 512)               0         \n",
      "_________________________________________________________________\n",
      "dense_1 (Dense)              (None, 512)               262656    \n",
      "_________________________________________________________________\n",
      "dropout_1 (Dropout)          (None, 512)               0         \n",
      "_________________________________________________________________\n",
      "dense_2 (Dense)              (None, 1024)              525312    \n",
      "_________________________________________________________________\n",
      "dense_4 (Dense)              (None, 2)                 2050      \n",
      "=================================================================\n",
      "Total params: 15,504,706\n",
      "Trainable params: 13,769,218\n",
      "Non-trainable params: 1,735,488\n",
      "_________________________________________________________________\n"
     ]
    }
   ],
   "source": [
    "model=Model(inputs=base_model.input,outputs=preds)\n",
    "\n",
    "for layer in model.layers[:10]:\n",
    "    layer.trainable=False\n",
    "for layer in model.layers[10:]:\n",
    "    layer.trainable=True\n",
    "    \n",
    "model.summary()"
   ]
  },
  {
   "cell_type": "code",
   "execution_count": 10,
   "metadata": {},
   "outputs": [],
   "source": [
    "opt = Adam(learning_rate=0.0001)\n",
    "model.compile(loss='categorical_crossentropy',\n",
    "              optimizer= opt,\n",
    "              metrics=['accuracy'])\n",
    "\n",
    "learning_rate_reduction = ReduceLROnPlateau(monitor='val_loss', \n",
    "                                            mode='auto',\n",
    "                                            verbose=1,\n",
    "                                            restore_best_weights=True)"
   ]
  },
  {
   "cell_type": "code",
   "execution_count": 11,
   "metadata": {
    "scrolled": false
   },
   "outputs": [
    {
     "name": "stdout",
     "output_type": "stream",
     "text": [
      "Train on 2649 samples, validate on 663 samples\n",
      "Epoch 1/40\n",
      "2649/2649 [==============================] - 12s 5ms/step - loss: 5.9054 - accuracy: 0.5693 - val_loss: 5.1569 - val_accuracy: 0.6561\n",
      "Epoch 2/40\n",
      "2649/2649 [==============================] - 8s 3ms/step - loss: 4.7391 - accuracy: 0.6440 - val_loss: 4.3661 - val_accuracy: 0.6456\n",
      "Epoch 3/40\n",
      "2649/2649 [==============================] - 8s 3ms/step - loss: 4.0233 - accuracy: 0.7452 - val_loss: 3.7619 - val_accuracy: 0.7662\n",
      "Epoch 4/40\n",
      "2649/2649 [==============================] - 8s 3ms/step - loss: 3.4369 - accuracy: 0.8324 - val_loss: 3.1668 - val_accuracy: 0.8869\n",
      "Epoch 5/40\n",
      "2649/2649 [==============================] - 8s 3ms/step - loss: 2.9690 - accuracy: 0.9075 - val_loss: 2.8939 - val_accuracy: 0.8808\n",
      "Epoch 6/40\n",
      "2649/2649 [==============================] - 8s 3ms/step - loss: 2.6052 - accuracy: 0.9502 - val_loss: 2.5742 - val_accuracy: 0.9140\n",
      "Epoch 7/40\n",
      "2649/2649 [==============================] - 8s 3ms/step - loss: 2.3174 - accuracy: 0.9800 - val_loss: 2.3987 - val_accuracy: 0.9201\n",
      "Epoch 8/40\n",
      "2649/2649 [==============================] - 9s 3ms/step - loss: 2.0918 - accuracy: 0.9940 - val_loss: 2.1524 - val_accuracy: 0.9427\n",
      "Epoch 9/40\n",
      "2649/2649 [==============================] - 9s 3ms/step - loss: 1.9177 - accuracy: 0.9943 - val_loss: 2.0348 - val_accuracy: 0.9427\n",
      "Epoch 10/40\n",
      "2649/2649 [==============================] - 9s 3ms/step - loss: 1.7802 - accuracy: 0.9921 - val_loss: 1.9338 - val_accuracy: 0.9276\n",
      "Epoch 11/40\n",
      "2649/2649 [==============================] - 9s 3ms/step - loss: 1.6588 - accuracy: 0.9853 - val_loss: 1.8024 - val_accuracy: 0.9261\n",
      "Epoch 12/40\n",
      "2649/2649 [==============================] - 9s 3ms/step - loss: 1.5205 - accuracy: 0.9958 - val_loss: 1.6326 - val_accuracy: 0.9532\n",
      "Epoch 13/40\n",
      "2649/2649 [==============================] - 9s 3ms/step - loss: 1.4284 - accuracy: 0.9917 - val_loss: 1.5249 - val_accuracy: 0.9442\n",
      "Epoch 14/40\n",
      "2649/2649 [==============================] - 9s 3ms/step - loss: 1.3184 - accuracy: 0.9977 - val_loss: 1.4520 - val_accuracy: 0.9472\n",
      "Epoch 15/40\n",
      "2649/2649 [==============================] - 9s 3ms/step - loss: 1.2302 - accuracy: 0.9977 - val_loss: 1.3667 - val_accuracy: 0.9517\n",
      "Epoch 16/40\n",
      "2649/2649 [==============================] - 9s 3ms/step - loss: 1.1523 - accuracy: 0.9974 - val_loss: 1.3956 - val_accuracy: 0.9336\n",
      "Epoch 17/40\n",
      "2649/2649 [==============================] - 9s 3ms/step - loss: 1.0798 - accuracy: 0.9981 - val_loss: 1.2671 - val_accuracy: 0.9382\n",
      "Epoch 18/40\n",
      "2649/2649 [==============================] - 9s 3ms/step - loss: 1.0118 - accuracy: 0.9977 - val_loss: 1.1728 - val_accuracy: 0.9532\n",
      "Epoch 19/40\n",
      "2649/2649 [==============================] - 9s 3ms/step - loss: 0.9512 - accuracy: 0.9974 - val_loss: 1.2256 - val_accuracy: 0.9201\n",
      "Epoch 20/40\n",
      "2649/2649 [==============================] - 9s 3ms/step - loss: 0.8940 - accuracy: 0.9974 - val_loss: 1.0261 - val_accuracy: 0.9593\n",
      "Epoch 21/40\n",
      "2649/2649 [==============================] - 9s 3ms/step - loss: 0.8426 - accuracy: 0.9966 - val_loss: 0.9796 - val_accuracy: 0.9578\n",
      "Epoch 22/40\n",
      "2649/2649 [==============================] - 9s 3ms/step - loss: 0.7908 - accuracy: 0.9985 - val_loss: 0.9793 - val_accuracy: 0.9427\n",
      "Epoch 23/40\n",
      "2649/2649 [==============================] - 9s 3ms/step - loss: 0.7458 - accuracy: 0.9977 - val_loss: 0.8959 - val_accuracy: 0.9502\n",
      "Epoch 24/40\n",
      "2649/2649 [==============================] - 9s 3ms/step - loss: 0.7061 - accuracy: 0.9970 - val_loss: 0.9148 - val_accuracy: 0.9442\n",
      "Epoch 25/40\n",
      "2649/2649 [==============================] - 9s 3ms/step - loss: 0.6658 - accuracy: 0.9970 - val_loss: 0.8566 - val_accuracy: 0.9472\n",
      "Epoch 26/40\n",
      "2649/2649 [==============================] - 9s 3ms/step - loss: 0.6267 - accuracy: 0.9977 - val_loss: 0.8395 - val_accuracy: 0.9457\n",
      "Epoch 27/40\n",
      "2649/2649 [==============================] - 9s 3ms/step - loss: 0.5931 - accuracy: 0.9981 - val_loss: 0.7773 - val_accuracy: 0.9487\n",
      "Epoch 28/40\n",
      "2649/2649 [==============================] - 9s 3ms/step - loss: 0.5608 - accuracy: 0.9981 - val_loss: 0.9365 - val_accuracy: 0.9170\n",
      "Epoch 29/40\n",
      "2649/2649 [==============================] - 9s 3ms/step - loss: 0.5304 - accuracy: 0.9981 - val_loss: 0.7343 - val_accuracy: 0.9487\n",
      "Epoch 30/40\n",
      "2649/2649 [==============================] - 9s 3ms/step - loss: 0.5016 - accuracy: 0.9989 - val_loss: 0.7377 - val_accuracy: 0.9457\n",
      "Epoch 31/40\n",
      "2649/2649 [==============================] - 9s 3ms/step - loss: 0.4756 - accuracy: 0.9985 - val_loss: 0.7235 - val_accuracy: 0.9427\n",
      "Epoch 32/40\n",
      "2649/2649 [==============================] - 9s 3ms/step - loss: 0.4505 - accuracy: 0.9989 - val_loss: 0.6748 - val_accuracy: 0.9472\n",
      "Epoch 33/40\n",
      "2649/2649 [==============================] - 9s 3ms/step - loss: 0.4274 - accuracy: 0.9985 - val_loss: 0.6604 - val_accuracy: 0.9532\n",
      "Epoch 34/40\n",
      "2649/2649 [==============================] - 9s 3ms/step - loss: 0.4057 - accuracy: 0.9985 - val_loss: 0.6800 - val_accuracy: 0.9336\n",
      "Epoch 35/40\n",
      "2649/2649 [==============================] - 9s 3ms/step - loss: 0.3847 - accuracy: 0.9985 - val_loss: 0.6578 - val_accuracy: 0.9397\n",
      "Epoch 36/40\n",
      "2649/2649 [==============================] - 9s 3ms/step - loss: 0.3651 - accuracy: 0.9985 - val_loss: 0.7167 - val_accuracy: 0.9231\n",
      "Epoch 37/40\n",
      "2649/2649 [==============================] - 9s 3ms/step - loss: 0.3469 - accuracy: 0.9985 - val_loss: 0.5799 - val_accuracy: 0.9487\n",
      "Epoch 38/40\n",
      "2649/2649 [==============================] - 9s 3ms/step - loss: 0.3294 - accuracy: 0.9989 - val_loss: 0.5729 - val_accuracy: 0.9427\n",
      "Epoch 39/40\n",
      "2649/2649 [==============================] - 9s 3ms/step - loss: 0.3131 - accuracy: 0.9985 - val_loss: 0.5357 - val_accuracy: 0.9548\n",
      "Epoch 40/40\n",
      "2649/2649 [==============================] - 9s 3ms/step - loss: 0.2975 - accuracy: 0.9985 - val_loss: 0.6152 - val_accuracy: 0.9276\n"
     ]
    }
   ],
   "source": [
    "history = model.fit(tr_data, tr_label,\n",
    "                    shuffle = True,\n",
    "                    validation_split = 0.2,\n",
    "                    batch_size=64,\n",
    "                    epochs=40,\n",
    "                    verbose=1,\n",
    "                    callbacks=[learning_rate_reduction])"
   ]
  },
  {
   "cell_type": "code",
   "execution_count": 12,
   "metadata": {},
   "outputs": [
    {
     "name": "stdout",
     "output_type": "stream",
     "text": [
      "dict_keys(['val_loss', 'val_accuracy', 'loss', 'accuracy', 'lr'])\n"
     ]
    },
    {
     "data": {
      "image/png": "[encoded data removed]",
      "text/plain": [
       "<Figure size 432x288 with 1 Axes>"
      ]
     },
     "metadata": {
      "needs_background": "light"
     },
     "output_type": "display_data"
    },
    {
     "data": {
      "image/png": "[encoded data removed]",
      "text/plain": [
       "<Figure size 432x288 with 1 Axes>"
      ]
     },
     "metadata": {
      "needs_background": "light"
     },
     "output_type": "display_data"
    }
   ],
   "source": [
    "# list all data in history\n",
    "print(history.history.keys())\n",
    "# summarize history for accuracy\n",
    "plt.plot(history.history['accuracy'])\n",
    "plt.plot(history.history['val_accuracy'])\n",
    "plt.title('model accuracy')\n",
    "plt.ylabel('accuracy')\n",
    "plt.xlabel('epoch')\n",
    "plt.legend(['train', 'val'], loc='upper left')\n",
    "plt.show()\n",
    "# summarize history for loss\n",
    "plt.plot(history.history['loss'])\n",
    "plt.plot(history.history['val_loss'])\n",
    "plt.title('model loss')\n",
    "plt.ylabel('loss')\n",
    "plt.xlabel('epoch')\n",
    "plt.legend(['train', 'val'], loc='upper left')\n",
    "plt.show()"
   ]
  },
  {
   "cell_type": "code",
   "execution_count": 13,
   "metadata": {},
   "outputs": [
    {
     "name": "stdout",
     "output_type": "stream",
     "text": [
      "Overall Accuracy:  0.9420289855072463\n",
      "              precision    recall  f1-score   support\n",
      "\n",
      "           0       0.96      0.92      0.94       410\n",
      "           1       0.92      0.96      0.94       418\n",
      "\n",
      "    accuracy                           0.94       828\n",
      "   macro avg       0.94      0.94      0.94       828\n",
      "weighted avg       0.94      0.94      0.94       828\n",
      "\n",
      "Overall sensitivity: 0.9420289855072463\n",
      "Overall Fscore: 0.941989373712987\n",
      "[15 33]\n",
      "[33 15]\n",
      "[377 403]\n",
      "[403 377]\n",
      "Sensitivity:  [0.9195122  0.96411483]\n",
      "Specificty:  [0.96411483 0.9195122 ]\n",
      "Overall SPecificity= 0.9418135138289182\n",
      "Precision:  [0.96173469 0.92431193]\n",
      "Recall:  [0.9195122  0.96411483]\n",
      "F-score:  [0.94014963 0.94379391]\n",
      "Classwise acc:  [0.94202899 0.94202899]\n"
     ]
    },
    {
     "data": {
      "image/png": "[encoded data removed]",
      "text/plain": [
       "<Figure size 432x288 with 2 Axes>"
      ]
     },
     "metadata": {
      "needs_background": "light"
     },
     "output_type": "display_data"
    }
   ],
   "source": [
    "# Look at confusion matrix \n",
    "#Note, this code is taken straight from the SKLEARN website, an nice way of viewing confusion matrix.\n",
    "classes=['covid', 'non-covid']\n",
    "def plot_confusion_matrix(cm, classes,\n",
    "                          normalize=False,\n",
    "                          title='Confusion matrix',\n",
    "                          cmap=plt.cm.Blues):\n",
    "    \"\"\"\n",
    "    \n",
    "       \n",
    "    This function prints and plots the confusion matrix.\n",
    "    Normalization can be applied by setting `normalize=True`.\n",
    "    \"\"\"\n",
    "    plt.imshow(cm, interpolation='nearest', cmap=cmap)\n",
    "    plt.title(title)\n",
    "    plt.colorbar()\n",
    "    tick_marks = np.arange(len(classes))\n",
    "    plt.xticks(tick_marks, classes, rotation=45)\n",
    "    plt.yticks(tick_marks, classes)\n",
    "\n",
    "    if normalize:\n",
    "        cm = cm.astype('float') / cm.sum(axis=1)[:, np.newaxis]\n",
    "\n",
    "    thresh = cm.max() / 2.\n",
    "    for i, j in itertools.product(range(cm.shape[0]), range(cm.shape[1])):\n",
    "        plt.text(j, i, cm[i, j],\n",
    "                 horizontalalignment=\"center\",\n",
    "                 color=\"white\" if cm[i, j] > thresh else \"black\")\n",
    "\n",
    "    plt.tight_layout()\n",
    "    plt.ylabel('True label')\n",
    "    plt.xlabel('Predicted label')\n",
    "# Predict the values from the validation dataset\n",
    "Y_pred = model.predict(test_data)\n",
    "# Convert predictions classes to one hot vectors \n",
    "Y_pred_classes = np.argmax(Y_pred, axis = 1) \n",
    "# Convert validation observations to one hot vectors\n",
    "Y_true = np.argmax(test_label, axis = 1) \n",
    "\n",
    "\n",
    "# compute the confusion matrix\n",
    "cm = confusion_matrix(Y_true, Y_pred_classes) \n",
    "# plot the confusion matrix\n",
    "plot_confusion_matrix(cm, classes)\n",
    "# Find accuracy\n",
    "from sklearn import metrics\n",
    "print(\"Overall Accuracy: \", metrics.accuracy_score(Y_true, Y_pred_classes))\n",
    "from sklearn.metrics import classification_report\n",
    "from sklearn.metrics import recall_score\n",
    "from sklearn.metrics import f1_score\n",
    "print(classification_report(Y_true, Y_pred_classes, labels=[0,1]))\n",
    "print(\"Overall sensitivity:\",recall_score(Y_true, Y_pred_classes, average='weighted'))\n",
    "print(\"Overall Fscore:\" , f1_score(Y_true, Y_pred_classes, average='weighted'))\n",
    "\n",
    "FP = cm.sum(axis=0) - np.diag(cm)  \n",
    "print(FP)\n",
    "FN = cm.sum(axis=1) - np.diag(cm)\n",
    "print(FN)\n",
    "TP = np.diag(cm)\n",
    "print(TP)\n",
    "TN = cm.sum() - (FP + FN + TP)\n",
    "print(TN)\n",
    "\n",
    "FP = FP.astype(float)\n",
    "FN = FN.astype(float)\n",
    "TP = TP.astype(float)\n",
    "TN = TN.astype(float)\n",
    "\n",
    "# Sensitivity, hit rate, recall, or true positive rate\n",
    "TPR = TP/(TP+FN)\n",
    "print(\"Sensitivity: \", TPR)\n",
    "# Specificity or true negative rate\n",
    "TNR = TN/(TN+FP) \n",
    "print(\"Specificty: \", TNR)\n",
    "print(\"Overall SPecificity=\", np.mean(TNR))\n",
    "# Precision or positive predictive value\n",
    "PPV = TP/(TP+FP)\n",
    "print(\"Precision: \", PPV)\n",
    "rec= TP/(TP+FN)\n",
    "print(\"Recall: \", rec)\n",
    "#F-score\n",
    "fs=(2*PPV*rec)/(PPV+rec)\n",
    "print(\"F-score: \", fs)\n",
    "# Negative predictive value\n",
    "NPV = TN/(TN+FN)\n",
    "# Fall out or false positive rate\n",
    "FPR = FP/(FP+TN)\n",
    "# False negative rate\n",
    "FNR = FN/(TP+FN)\n",
    "# False discovery rate\n",
    "FDR = FP/(TP+FP)\n",
    "# #Auc curve\n",
    "# from sklearn.metrics import roc_auc_score\n",
    "# roc_auc_score(Y_true, Y_pred,multi_class='ovo')\n",
    "# Overall accuracy\n",
    "ACC = (TP+TN)/(TP+FP+FN+TN)\n",
    "print(\"Classwise acc: \", ACC)\n"
   ]
  },
  {
   "cell_type": "code",
   "execution_count": null,
   "metadata": {},
   "outputs": [],
   "source": []
  }
 ],
 "metadata": {
  "kernelspec": {
   "display_name": "Python 3",
   "language": "python",
   "name": "python3"
  },
  "language_info": {
   "codemirror_mode": {
    "name": "ipython",
    "version": 3
   },
   "file_extension": ".py",
   "mimetype": "text/x-python",
   "name": "python",
   "nbconvert_exporter": "python",
   "pygments_lexer": "ipython3",
   "version": "3.7.9"
  }
 },
 "nbformat": 4,
 "nbformat_minor": 1
}
